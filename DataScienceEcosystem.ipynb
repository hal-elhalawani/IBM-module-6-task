{
 "cells": [
  {
   "cell_type": "markdown",
   "id": "95d5b990-5600-42dc-9d3a-795f451c8689",
   "metadata": {},
   "source": [
    "# Data Science Tools and Ecosystem"
   ]
  },
  {
   "cell_type": "markdown",
   "id": "c668ebbc-c3b4-4986-8ad9-2fc08bee50bc",
   "metadata": {},
   "source": [
    "In this notebook, Data Science Tools and Ecosystem are summarized"
   ]
  },
  {
   "cell_type": "markdown",
   "id": "7f6a76f5-f866-42f2-baa5-8f5d037ec49c",
   "metadata": {},
   "source": [
    "**Objectives:**\n",
    "\n",
    "- List some of the popular languages that Data Scientists use\n",
    "- List some of the commonly used libraries used by Data Scientists\n",
    "- Understand how to evaluate simple arithmetic expressions in Python\n",
    "\n"
   ]
  },
  {
   "cell_type": "markdown",
   "id": "9cb2ff2b-bb0c-46e1-9e90-e9b4d767fd8c",
   "metadata": {},
   "source": [
    "Some of the popular languages that Data Scientists use are:\n",
    "\n",
    "1. Python\n",
    "2. R\n",
    "3. SQL"
   ]
  },
  {
   "cell_type": "markdown",
   "id": "24cd4556-07cc-47d6-b670-959b3efe5960",
   "metadata": {},
   "source": [
    "Some of the commonly used libraries used by Data Scientists include:\n",
    "\n",
    "1. Pandas\n",
    "2. Matplotlib\n",
    "3. NumPy"
   ]
  },
  {
   "cell_type": "markdown",
   "id": "799fca7b-b199-4aee-a0f3-42ca45fb5f08",
   "metadata": {},
   "source": [
    "| Data Science Tools |\n",
    "|--------------------|\n",
    "|Jupyter Notebook|\n",
    "|RStudio|\n",
    "|Visual Studio Code|"
   ]
  },
  {
   "cell_type": "markdown",
   "id": "eb58b0dd-4800-4ea9-ad0e-a84cc0bda4ed",
   "metadata": {},
   "source": [
    "### Below are a few examples of evaluating arithmetic expressions in Python"
   ]
  },
  {
   "cell_type": "code",
   "execution_count": 5,
   "id": "93b954d1-1b44-40a2-99a1-cb03e52864f3",
   "metadata": {},
   "outputs": [
    {
     "data": {
      "text/plain": [
       "17"
      ]
     },
     "execution_count": 5,
     "metadata": {},
     "output_type": "execute_result"
    }
   ],
   "source": [
    "# This is a simple arithmetic expression to multiply then add integers\n",
    "(3*4)+5"
   ]
  },
  {
   "cell_type": "code",
   "execution_count": 9,
   "id": "684312d9-6d08-44ed-9814-3a2de158f40e",
   "metadata": {},
   "outputs": [
    {
     "name": "stdout",
     "output_type": "stream",
     "text": [
      "200 minutes is equal to 3.3333333333333335 hours\n"
     ]
    }
   ],
   "source": [
    "# This will convert 200 minutes to hours by diving by 60\n",
    "x = 200/60\n",
    "print(\"200 minutes is equal to\", x, \"hours\")"
   ]
  },
  {
   "cell_type": "markdown",
   "id": "e4940a5c-4c3f-4179-8ea7-494fc1e06514",
   "metadata": {},
   "source": [
    "## Author\n",
    "\n",
    "Omar Harris Vernon El-Halawani"
   ]
  }
 ],
 "metadata": {
  "kernelspec": {
   "display_name": "Python 3 (ipykernel)",
   "language": "python",
   "name": "python3"
  },
  "language_info": {
   "codemirror_mode": {
    "name": "ipython",
    "version": 3
   },
   "file_extension": ".py",
   "mimetype": "text/x-python",
   "name": "python",
   "nbconvert_exporter": "python",
   "pygments_lexer": "ipython3",
   "version": "3.11.9"
  }
 },
 "nbformat": 4,
 "nbformat_minor": 5
}
